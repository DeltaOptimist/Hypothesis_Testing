{
  "nbformat": 4,
  "nbformat_minor": 0,
  "metadata": {
    "colab": {
      "name": "Hypothesis_Testing.ipynb",
      "provenance": []
    },
    "kernelspec": {
      "name": "python3",
      "display_name": "Python 3"
    }
  },
  "cells": [
    {
      "cell_type": "markdown",
      "metadata": {
        "id": "4KxB7m2hJl-S"
      },
      "source": [
        "**1. Normality Tests**\r\n",
        "\r\n",
        "- Shapiro-Wilk Test\r\n",
        "\r\n",
        "**2. Correlation Tests**\r\n",
        "\r\n",
        "- Pearson’s Correlation Coefficient\r\n",
        "\r\n",
        "- Spearman’s Rank Correlation\r\n",
        "\r\n",
        "- Kendall’s Rank Correlation\r\n",
        "\r\n",
        "- Chi-Squared Test\r\n",
        "\r\n",
        "**3. Parametric Statistical Hypothesis Tests**\r\n",
        "\r\n",
        "- Student’s t-test\r\n",
        "\r\n",
        "- Paired Student’s t-test"
      ]
    },
    {
      "cell_type": "markdown",
      "metadata": {
        "id": "TaT0tWKrKOhw"
      },
      "source": [
        "**1. Normality Tests**\r\n",
        "\r\n",
        "This section lists statistical tests that you can use to check if your data has a **Gaussian distribution.**\r\n",
        "\r\n",
        "**Shapiro-Wilk Test** \r\n",
        "\r\n",
        "Tests whether a data sample has a Gaussian distribution.\r\n",
        "\r\n",
        "**Assumptions**\r\n",
        "\r\n",
        "Observations in each sample are independent and identically distributed (iid).\r\n",
        "\r\n",
        "**Interpretation**\r\n",
        "\r\n",
        "H0: the sample has a Gaussian distribution.\r\n",
        "\r\n",
        "H1: the sample does not have a Gaussian distribution.\r\n"
      ]
    },
    {
      "cell_type": "code",
      "metadata": {
        "colab": {
          "base_uri": "https://localhost:8080/"
        },
        "id": "oi10RYhjJYc5",
        "outputId": "dd4c28e1-5616-4657-d33a-1d80b7757aa0"
      },
      "source": [
        "# Example of the Shapiro-Wilk Normality Test\r\n",
        "from scipy.stats import shapiro\r\n",
        "data = [0.873, 2.817, 0.121, -0.945, -0.055, -1.436, 0.360, -1.478, -1.637, -1.869]\r\n",
        "stat, p = shapiro(data)\r\n",
        "print('stat=%.3f, p=%.3f' % (stat, p))\r\n",
        "if p > 0.05:\r\n",
        "\tprint('Probably Gaussian')\r\n",
        "else:\r\n",
        "\tprint('Probably not Gaussian')"
      ],
      "execution_count": 1,
      "outputs": [
        {
          "output_type": "stream",
          "text": [
            "stat=0.895, p=0.193\n",
            "Probably Gaussian\n"
          ],
          "name": "stdout"
        }
      ]
    },
    {
      "cell_type": "markdown",
      "metadata": {
        "id": "s4gcWPUxLrPF"
      },
      "source": [
        "**2. Correlation Tests**\r\n",
        "\r\n",
        "This section lists statistical tests that you can use to check if two samples are related.\r\n",
        "\r\n",
        "**Pearson’s Correlation Coefficient**\r\n",
        "\r\n",
        "Tests whether two samples have a linear relationship.\r\n",
        "\r\n",
        "**Assumptions**\r\n",
        "\r\n",
        "Observations in each sample are independent and identically distributed (iid).\r\n",
        "\r\n",
        "Observations in each sample are normally distributed.\r\n",
        "\r\n",
        "Observations in each sample have the same variance.\r\n",
        "\r\n",
        "**Interpretation**\r\n",
        "\r\n",
        "H0: the two samples are independent.\r\n",
        "\r\n",
        "H1: there is a dependency between the samples."
      ]
    },
    {
      "cell_type": "code",
      "metadata": {
        "colab": {
          "base_uri": "https://localhost:8080/"
        },
        "id": "4qnzHOMRLbxg",
        "outputId": "7cc24344-8a53-490e-b8f4-96efdd47b2f8"
      },
      "source": [
        "# Example of the Pearson's Correlation test\r\n",
        "\r\n",
        "from scipy.stats import pearsonr\r\n",
        "data1 = [0.873, 2.817, 0.121, -0.945, -0.055, -1.436, 0.360, -1.478, -1.637, -1.869]\r\n",
        "data2 = [0.353, 3.517, 0.125, -7.545, -0.555, -1.536, 3.350, -1.578, -3.537, -1.579]\r\n",
        "stat, p = pearsonr(data1, data2)\r\n",
        "print('stat=%.3f, p=%.3f' % (stat, p))\r\n",
        "if p > 0.05:\r\n",
        "\tprint('Probably independent')\r\n",
        "else:\r\n",
        "\tprint('Probably dependent')"
      ],
      "execution_count": 4,
      "outputs": [
        {
          "output_type": "stream",
          "text": [
            "stat=0.688, p=0.028\n",
            "Probably dependent\n"
          ],
          "name": "stdout"
        }
      ]
    },
    {
      "cell_type": "markdown",
      "metadata": {
        "id": "rtP17vFHMIgE"
      },
      "source": [
        "**Spearman’s Rank Correlation**\r\n",
        "\r\n",
        "Tests whether two samples have a monotonic relationship.\r\n",
        "\r\n",
        "**Assumptions**\r\n",
        "\r\n",
        "Observations in each sample are independent and identically distributed (iid).\r\n",
        "\r\n",
        "Observations in each sample can be ranked.\r\n",
        "\r\n",
        "**Interpretation**\r\n",
        "\r\n",
        "H0: the two samples are independent.\r\n",
        "\r\n",
        "H1: there is a dependency between the samples."
      ]
    },
    {
      "cell_type": "code",
      "metadata": {
        "colab": {
          "base_uri": "https://localhost:8080/"
        },
        "id": "YI4n7qL8MA8L",
        "outputId": "4e1c1eb3-4067-4f1b-9ec9-b5d5017cd505"
      },
      "source": [
        "# Example of the Spearman's Rank Correlation Test\r\n",
        "\r\n",
        "from scipy.stats import spearmanr\r\n",
        "data1 = [0.873, 2.817, 0.121, -0.945, -0.055, -1.436, 0.360, -1.478, -1.637, -1.869]\r\n",
        "data2 = [0.353, 3.517, 0.125, -7.545, -0.555, -1.536, 3.350, -1.578, -3.537, -1.579]\r\n",
        "stat, p = spearmanr(data1, data2)\r\n",
        "print('stat=%.3f, p=%.3f' % (stat, p))\r\n",
        "if p > 0.05:\r\n",
        "\tprint('Probably independent')\r\n",
        "else:\r\n",
        "\tprint('Probably dependent')"
      ],
      "execution_count": 5,
      "outputs": [
        {
          "output_type": "stream",
          "text": [
            "stat=0.855, p=0.002\n",
            "Probably dependent\n"
          ],
          "name": "stdout"
        }
      ]
    },
    {
      "cell_type": "markdown",
      "metadata": {
        "id": "Oo_PjxetMazW"
      },
      "source": [
        "**Kendall’s Rank Correlation**\r\n",
        "\r\n",
        "Tests whether two samples have a monotonic relationship.\r\n",
        "\r\n",
        "**Assumptions**\r\n",
        "\r\n",
        "Observations in each sample are independent and identically distributed (iid).\r\n",
        "Observations in each sample can be ranked.\r\n",
        "\r\n",
        "Interpretation\r\n",
        "\r\n",
        "H0: the two samples are independent.\r\n",
        "\r\n",
        "H1: there is a dependency between the samples."
      ]
    },
    {
      "cell_type": "code",
      "metadata": {
        "colab": {
          "base_uri": "https://localhost:8080/"
        },
        "id": "hMfv7UQiMRQq",
        "outputId": "45ab4161-6511-4ede-d24e-e0ca6d1a80b7"
      },
      "source": [
        "# Example of the Kendall's Rank Correlation Test\r\n",
        "\r\n",
        "from scipy.stats import kendalltau\r\n",
        "data1 = [0.873, 2.817, 0.121, -0.945, -0.055, -1.436, 0.360, -1.478, -1.637, -1.869]\r\n",
        "data2 = [0.353, 3.517, 0.125, -7.545, -0.555, -1.536, 3.350, -1.578, -3.537, -1.579]\r\n",
        "stat, p = kendalltau(data1, data2)\r\n",
        "print('stat=%.3f, p=%.3f' % (stat, p))\r\n",
        "if p > 0.05:\r\n",
        "\tprint('Probably independent')\r\n",
        "else:\r\n",
        "\tprint('Probably dependent')"
      ],
      "execution_count": 6,
      "outputs": [
        {
          "output_type": "stream",
          "text": [
            "stat=0.733, p=0.002\n",
            "Probably dependent\n"
          ],
          "name": "stdout"
        }
      ]
    },
    {
      "cell_type": "markdown",
      "metadata": {
        "id": "JdxlNn7VMvT_"
      },
      "source": [
        "**Chi-Squared Test**\r\n",
        "\r\n",
        "Tests whether two categorical variables are related or independent.\r\n",
        "\r\n",
        "**Assumptions**\r\n",
        "\r\n",
        "Observations used in the calculation of the contingency table are independent.\r\n",
        "\r\n",
        "25 or more examples in each cell of the contingency table.\r\n",
        "\r\n",
        "**Interpretation**\r\n",
        "\r\n",
        "H0: the two samples are independent.\r\n",
        "\r\n",
        "H1: there is a dependency between the samples."
      ]
    },
    {
      "cell_type": "code",
      "metadata": {
        "colab": {
          "base_uri": "https://localhost:8080/"
        },
        "id": "SZcVqTNPMoIb",
        "outputId": "1d4c350c-dfa7-4a03-ad10-53229975ee9d"
      },
      "source": [
        "# Example of the Chi-Squared Test\r\n",
        "\r\n",
        "from scipy.stats import chi2_contingency\r\n",
        "table = [[10, 20, 30],[6,  9,  17]]\r\n",
        "stat, p, dof, expected = chi2_contingency(table)\r\n",
        "print('stat=%.3f, p=%.3f' % (stat, p))\r\n",
        "if p > 0.05:\r\n",
        "\tprint('Probably independent')\r\n",
        "else:\r\n",
        "\tprint('Probably dependent')"
      ],
      "execution_count": 7,
      "outputs": [
        {
          "output_type": "stream",
          "text": [
            "stat=0.272, p=0.873\n",
            "Probably independent\n"
          ],
          "name": "stdout"
        }
      ]
    },
    {
      "cell_type": "markdown",
      "metadata": {
        "id": "Q7vNxDiJNP5J"
      },
      "source": [
        "**3. Parametric Statistical Hypothesis Tests**\r\n",
        "\r\n",
        "\r\n",
        "\r\n",
        "This section lists statistical tests that you can use to compare data samples.\r\n",
        "\r\n",
        "**Student’s t-test**\r\n",
        "\r\n",
        "Tests whether the means of two independent samples are significantly different.\r\n",
        "\r\n",
        "**Assumptions**\r\n",
        "\r\n",
        "Observations in each sample are independent and identically distributed (iid).\r\n",
        "\r\n",
        "Observations in each sample are normally distributed.\r\n",
        "\r\n",
        "Observations in each sample have the same variance.\r\n",
        "\r\n",
        "**Interpretation**\r\n",
        "\r\n",
        "H0: the means of the samples are equal.\r\n",
        "\r\n",
        "H1: the means of the samples are unequal."
      ]
    },
    {
      "cell_type": "code",
      "metadata": {
        "colab": {
          "base_uri": "https://localhost:8080/"
        },
        "id": "jknDgeaHNFEn",
        "outputId": "54cc39d9-ccad-4a80-d453-a54ddc1b0506"
      },
      "source": [
        "# Example of the Student's t-test\r\n",
        "\r\n",
        "from scipy.stats import ttest_ind\r\n",
        "data1 = [0.873, 2.817, 0.121, -0.945, -0.055, -1.436, 0.360, -1.478, -1.637, -1.869]\r\n",
        "data2 = [1.142, -0.432, -0.938, -0.729, -0.846, -0.157, 0.500, 1.183, -1.075, -0.169]\r\n",
        "stat, p = ttest_ind(data1, data2)\r\n",
        "print('stat=%.3f, p=%.3f' % (stat, p))\r\n",
        "if p > 0.05:\r\n",
        "\tprint('Probably the same distribution')\r\n",
        "else:\r\n",
        "\tprint('Probably different distributions')"
      ],
      "execution_count": 8,
      "outputs": [
        {
          "output_type": "stream",
          "text": [
            "stat=-0.326, p=0.748\n",
            "Probably the same distribution\n"
          ],
          "name": "stdout"
        }
      ]
    },
    {
      "cell_type": "markdown",
      "metadata": {
        "id": "s2I17T8ONs5l"
      },
      "source": [
        "**Paired Student’s t-test**\r\n",
        "\r\n",
        "Tests whether the means of two paired samples are significantly different.\r\n",
        "\r\n",
        "**Assumptions**\r\n",
        "\r\n",
        "Observations in each sample are independent and identically distributed (iid).\r\n",
        "\r\n",
        "Observations in each sample are normally distributed.\r\n",
        "\r\n",
        "Observations in each sample have the same variance.\r\n",
        "\r\n",
        "Observations across each sample are paired.\r\n",
        "\r\n",
        "**Interpretation**\r\n",
        "\r\n",
        "H0: the means of the samples are equal.\r\n",
        "\r\n",
        "H1: the means of the samples are unequal."
      ]
    },
    {
      "cell_type": "code",
      "metadata": {
        "colab": {
          "base_uri": "https://localhost:8080/"
        },
        "id": "9i_5lMG0Nmpg",
        "outputId": "dd356604-e7b1-4eb6-babc-5852c30d724f"
      },
      "source": [
        "# Example of the Paired Student's t-test\r\n",
        "\r\n",
        "from scipy.stats import ttest_rel\r\n",
        "data1 = [0.873, 2.817, 0.121, -0.945, -0.055, -1.436, 0.360, -1.478, -1.637, -1.869]\r\n",
        "data2 = [1.142, -0.432, -0.938, -0.729, -0.846, -0.157, 0.500, 1.183, -1.075, -0.169]\r\n",
        "stat, p = ttest_rel(data1, data2)\r\n",
        "print('stat=%.3f, p=%.3f' % (stat, p))\r\n",
        "if p > 0.05:\r\n",
        "\tprint('Probably the same distribution')\r\n",
        "else:\r\n",
        "\tprint('Probably different distributions')"
      ],
      "execution_count": 9,
      "outputs": [
        {
          "output_type": "stream",
          "text": [
            "stat=-0.334, p=0.746\n",
            "Probably the same distribution\n"
          ],
          "name": "stdout"
        }
      ]
    },
    {
      "cell_type": "code",
      "metadata": {
        "id": "03FjWdMzOIDb"
      },
      "source": [
        ""
      ],
      "execution_count": null,
      "outputs": []
    }
  ]
}